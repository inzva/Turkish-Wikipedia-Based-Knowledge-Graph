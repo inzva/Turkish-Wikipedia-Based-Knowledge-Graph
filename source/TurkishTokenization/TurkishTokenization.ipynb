{
  "nbformat": 4,
  "nbformat_minor": 0,
  "metadata": {
    "colab": {
      "name": "TurkishTokenization.ipynb",
      "provenance": [],
      "collapsed_sections": []
    },
    "kernelspec": {
      "name": "python3",
      "display_name": "Python 3"
    }
  },
  "cells": [
    {
      "cell_type": "code",
      "metadata": {
        "colab": {
          "base_uri": "https://localhost:8080/"
        },
        "id": "YkhDYbri6rpK",
        "outputId": "3abe3fc5-dc32-435c-d670-c9677dc8507a"
      },
      "source": [
        "!pip install trnlp"
      ],
      "execution_count": 1,
      "outputs": [
        {
          "output_type": "stream",
          "text": [
            "Collecting trnlp\n",
            "\u001b[?25l  Downloading https://files.pythonhosted.org/packages/81/05/ec3821b7e89be7288308a528be127ddc238a3801f30cb538e6c32fb14f63/trnlp-0.2.3a0.tar.gz (10.1MB)\n",
            "\u001b[K     |████████████████████████████████| 10.1MB 7.2MB/s \n",
            "\u001b[?25hBuilding wheels for collected packages: trnlp\n",
            "  Building wheel for trnlp (setup.py) ... \u001b[?25l\u001b[?25hdone\n",
            "  Created wheel for trnlp: filename=trnlp-0.2.3a0-cp37-none-any.whl size=10168268 sha256=e9101c33e521e6d5e81cbd9a9718027ccb6414c4a6f0da6d63d49ddd00ee310b\n",
            "  Stored in directory: /root/.cache/pip/wheels/14/ef/af/28ddb21e63f6aaaf7de11f8e93aaaabfb2b809233101040baa\n",
            "Successfully built trnlp\n",
            "Installing collected packages: trnlp\n",
            "Successfully installed trnlp-0.2.3a0\n"
          ],
          "name": "stdout"
        }
      ]
    },
    {
      "cell_type": "code",
      "metadata": {
        "colab": {
          "base_uri": "https://localhost:8080/"
        },
        "id": "myxyFgcN6tsY",
        "outputId": "c0f6f132-a324-41ee-baee-87982651e6aa"
      },
      "source": [
        "from trnlp import *\n",
        "\n",
        "print(simple_token(\"Merhaba ismim Mustafa. Mert'in kuzeniyim\"))"
      ],
      "execution_count": 4,
      "outputs": [
        {
          "output_type": "stream",
          "text": [
            "['Merhaba', 'ismim', 'Mustafa', '.', 'Mert', \"'\", 'in', 'kuzeniyim']\n"
          ],
          "name": "stdout"
        }
      ]
    },
    {
      "cell_type": "code",
      "metadata": {
        "id": "aRBPnyB763Mj"
      },
      "source": [
        ""
      ],
      "execution_count": null,
      "outputs": []
    }
  ]
}